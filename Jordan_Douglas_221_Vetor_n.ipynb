{
  "nbformat": 4,
  "nbformat_minor": 0,
  "metadata": {
    "colab": {
      "provenance": [],
      "collapsed_sections": [],
      "include_colab_link": true
    },
    "kernelspec": {
      "name": "python3",
      "display_name": "Python 3"
    }
  },
  "cells": [
    {
      "cell_type": "markdown",
      "metadata": {
        "id": "view-in-github",
        "colab_type": "text"
      },
      "source": [
        "<a href=\"https://colab.research.google.com/github/JordanDouglasRDM/Matrizes_Vetores_Python/blob/main/Jordan_Douglas_221_Vetor_n.ipynb\" target=\"_parent\"><img src=\"https://colab.research.google.com/assets/colab-badge.svg\" alt=\"Open In Colab\"/></a>"
      ]
    },
    {
      "cell_type": "markdown",
      "metadata": {
        "id": "BTk5UJlvXLuB"
      },
      "source": [
        "#**EXERCÍCIOS SOBRE VETOR**"
      ]
    },
    {
      "cell_type": "markdown",
      "metadata": {
        "id": "YOspAvb8YpqR"
      },
      "source": [
        "### 1. Faça um programa que calcule e apresente a média de idades de uma sala de 35 alunos.​​"
      ]
    },
    {
      "cell_type": "code",
      "metadata": {
        "id": "PR5Z9QlTXHEO",
        "colab": {
          "base_uri": "https://localhost:8080/"
        },
        "outputId": "e54f9638-636d-40fb-fa57-acf4a1216f69"
      },
      "source": [
        "x = 35\n",
        "soma = 0\n",
        "idade = []\n",
        "for i in range(x):\n",
        "    idade.append(int(input(f'Informe a idade do {i+1}° aluno: ')))\n",
        "    soma = soma + idade[i]\n",
        "med = soma / x\n",
        "print(f'A média dos alunos é {med:.2f}')"
      ],
      "execution_count": null,
      "outputs": [
        {
          "output_type": "stream",
          "name": "stdout",
          "text": [
            "Informe a idade do 1° aluno: 18\n",
            "Informe a idade do 2° aluno: 19\n",
            "Informe a idade do 3° aluno: 22\n",
            "Informe a idade do 4° aluno: 18\n",
            "Informe a idade do 5° aluno: 16\n",
            "A média dos alunos é 18.60\n"
          ]
        }
      ]
    },
    {
      "cell_type": "markdown",
      "metadata": {
        "id": "XtTydU3HZNHi"
      },
      "source": [
        "### 2. Faça um programa que calcule e apresente a média de alturas de uma sala de 35 alunos. Informe também quantos alunos **e** quais (índice/posição) são os que possuem idade superior a 25 anos.​ Use dois vetores, um para altura e outro para idade. Não use nenhuma função pronta da linguagem Python.\n"
      ]
    },
    {
      "cell_type": "code",
      "metadata": {
        "id": "n-bT5WDZZQQ0",
        "colab": {
          "base_uri": "https://localhost:8080/"
        },
        "outputId": "e4059ca7-0d11-4ec1-c503-d998bba606e0"
      },
      "source": [
        "#Método 1\n",
        "x = 3\n",
        "altura = []\n",
        "idade = []\n",
        "ind = []\n",
        "soma = 0\n",
        "cont = 0\n",
        "for i in range(x):\n",
        "    altura.append(float(input(f'Informe a altura do {i+1}° aluno: ')))\n",
        "    idade.append(int(input(f'Informe a idade do {i+1}° aluno: ')))\n",
        "    soma = soma + altura[i]\n",
        "    if idade[i] > 25:\n",
        "        ind.append(int(i))\n",
        "        cont = cont + 1\n",
        "    med = soma / x\n",
        "print(f'A media das alturas é {med:.2f}')\n",
        "print(f'A quantidade dos alunos maiores que 25 anos é {cont}, e estão respectivamente nas posições: {ind}')"
      ],
      "execution_count": null,
      "outputs": [
        {
          "output_type": "stream",
          "name": "stdout",
          "text": [
            "Informe a altura do 1° aluno: 1.66\n",
            "Informe a idade do 1° aluno: 27\n",
            "Informe a altura do 2° aluno: 1.77\n",
            "Informe a idade do 2° aluno: 29\n",
            "Informe a altura do 3° aluno: 1.48\n",
            "Informe a idade do 3° aluno: 24\n",
            "A media das alturas é 1.64\n",
            "A quantidade dos alunos maiores que 25 anos é 2, e estão respectivamente nas posições: [0, 1]\n"
          ]
        }
      ]
    },
    {
      "cell_type": "code",
      "source": [
        "#Método 2\n",
        "media = 0\n",
        "cont = 0\n",
        "soma = 0\n",
        "idade = []\n",
        "altura = []\n",
        "for i in range(3):\n",
        "    idade.append(int(input(f'Informe a IDADE do {i+1}° aluno: ')))\n",
        "    altura.append(float(input(f'Informw a ALTURA do {i+1}° aluno: ')))\n",
        "    soma = soma + altura[i]\n",
        "for i in range(len(idade)):    \n",
        "    if idade[i] > 25:\n",
        "        print(f'Na posição {i} há um aluno maior de 25 anos.') # ou print(f'O {i+1}° aluno é maior de 25 anos')\n",
        "        cont = cont + 1 \n",
        "media = soma / len(altura)\n",
        "print('\\n\\n')\n",
        "print(f'A média das idades é {media:.2f}')"
      ],
      "metadata": {
        "colab": {
          "base_uri": "https://localhost:8080/"
        },
        "id": "Tj14qSVsasxP",
        "outputId": "600f1bd2-0ea9-458e-9ef5-bbb6144f3c8b"
      },
      "execution_count": null,
      "outputs": [
        {
          "output_type": "stream",
          "name": "stdout",
          "text": [
            "Informe a IDADE do 1° aluno: 26\n",
            "Informw a ALTURA do 1° aluno: 1.55\n",
            "Informe a IDADE do 2° aluno: 28\n",
            "Informw a ALTURA do 2° aluno: 1.88\n",
            "Informe a IDADE do 3° aluno: 22\n",
            "Informw a ALTURA do 3° aluno: 1.75\n",
            "Na posição 0 há um aluno maior de 25 anos.\n",
            "Na posição 1 há um aluno maior de 25 anos.\n",
            "A média das idades é 1.73\n"
          ]
        }
      ]
    },
    {
      "cell_type": "markdown",
      "metadata": {
        "id": "3x_WkNYTZQeD"
      },
      "source": [
        "### 3. Faça um programa que carregue um vetor de dez elementos que contenha o nome de pessoas e outro que contenha o peso, encontre qual a pessoa mais gorda e mais magra e apresente o nome o peso das mesmas.​ Use dois vetores, um para peso e outro para nome. Não use nenhuma função pronta da linguagem Python."
      ]
    },
    {
      "cell_type": "code",
      "metadata": {
        "id": "7VsianjuZMrf",
        "colab": {
          "base_uri": "https://localhost:8080/"
        },
        "outputId": "d1e52d34-046e-430a-b092-0e98d85f539d"
      },
      "source": [
        "nome = []\n",
        "peso = []\n",
        "nome.append(input(f'Informe o nome da 1° pessoa: '))\n",
        "peso.append(int(input(f'Informe o peso da 1° pessoa: ')))\n",
        "pesado = peso[0]\n",
        "leve = peso[0]\n",
        "gordo = nome[0]\n",
        "magro = nome[0]\n",
        "for i in range(1,4):\n",
        "    nome.append(input(f'Informe o nome da {i+1}° pessoa: '))\n",
        "    peso.append(int(input(f'Informe o peso da {i+1}° pessoa: ')))\n",
        "    if peso[i] > pesado:\n",
        "        pesado = peso[i]\n",
        "        gordo = nome[i]\n",
        "    if peso[i] < pesado:\n",
        "        leve = peso[i]\n",
        "        magro = nome[i]\n",
        "print(f'{gordo} É o mais gordo pesando {pesado}Kg')\n",
        "print(f'{magro} É o mais magro pesando {leve}Kg')"
      ],
      "execution_count": null,
      "outputs": [
        {
          "output_type": "stream",
          "name": "stdout",
          "text": [
            "Informe o nome da 1° pessoa: a\n",
            "Informe o peso da 1° pessoa: 42\n",
            "Informe o nome da 2° pessoa: b\n",
            "Informe o peso da 2° pessoa: 44\n",
            "Informe o nome da 3° pessoa: c\n",
            "Informe o peso da 3° pessoa: 25\n",
            "Informe o nome da 4° pessoa: d\n",
            "Informe o peso da 4° pessoa: 50\n",
            "d É o mais gordo pesando 50Kg\n",
            "c É o mais magro pesando 25Kg\n"
          ]
        }
      ]
    },
    {
      "cell_type": "markdown",
      "metadata": {
        "id": "xSpiII3mZdQV"
      },
      "source": [
        "### 4. Faça um programa que carregue um vetor com a média de dez alunos, calcule e mostre a MÉDIA DA SALA e quantos alunos estão acima e abaixo da média da sala."
      ]
    },
    {
      "cell_type": "code",
      "source": [
        "cont = 0\n",
        "media = []\n",
        "soma = 0\n",
        "for i in range(3):\n",
        "    media.append(float(input(f'Informe a média do {i+1}° aluno: ')))\n",
        "    soma = soma + media[i]\n",
        "sala = soma / len(media)\n",
        "for i in range(len(media)):\n",
        "    if media[i] > sala:\n",
        "        cont = cont + 1\n",
        "print(f'A média da sala é {sala:.2f}.')\n",
        "print(f'{cont} alunos estão acima da média da sala.')\n",
        "print(f'{len(media) - cont} alunos estão abaixo da média da sala.')"
      ],
      "metadata": {
        "colab": {
          "base_uri": "https://localhost:8080/"
        },
        "id": "UhdU11YNS9u0",
        "outputId": "ddd751a8-b602-433d-d562-efd9439952c3"
      },
      "execution_count": null,
      "outputs": [
        {
          "output_type": "stream",
          "name": "stdout",
          "text": [
            "Informe a média do 1° aluno: 7.6\n",
            "Informe a média do 2° aluno: 7.8\n",
            "Informe a média do 3° aluno: 9.9\n",
            "A média da sala é 8.43.\n",
            "1 alunos estão acima da média da sala.\n",
            "2 alunos estão abaixo da média da sala.\n"
          ]
        }
      ]
    },
    {
      "cell_type": "markdown",
      "metadata": {
        "id": "frrtYwMAZUcL"
      },
      "source": [
        "### 5. Faça um programa que carregue um vetor de oito elementos numéricos inteiros, calcule e mostre os números pares e suas respectivas índices/posições. Não use nenhuma função pronta da linguagem Python.\n"
      ]
    },
    {
      "cell_type": "code",
      "source": [
        "num = []\n",
        "for i in range(3):\n",
        "    num.append(int(input('Informe um número: ')))\n",
        "for i in range(len(num)):\n",
        "    if num[i] % 2 == 0:\n",
        "        print(f'O número {num[i]} é par e está na posição {i}')\n",
        "    else:\n",
        "        print(f'O número {num[i]} é ímpar e está na posição {i}')"
      ],
      "metadata": {
        "colab": {
          "base_uri": "https://localhost:8080/"
        },
        "id": "ksvZggpKVw87",
        "outputId": "04bbfa59-ca48-4279-c28d-f4862ab46484"
      },
      "execution_count": null,
      "outputs": [
        {
          "output_type": "stream",
          "name": "stdout",
          "text": [
            "Informe um número: 9\n",
            "Informe um número: 12\n",
            "Informe um número: 5050\n",
            "O número 9 é ímpar e está na posição 0\n",
            "O número 12 é par e está na posição 1\n",
            "O número 5050 é par e está na posição 2\n"
          ]
        }
      ]
    },
    {
      "cell_type": "markdown",
      "metadata": {
        "id": "cml17HAsZ5Wf"
      },
      "source": [
        "### 6. Faça um programa que carregue um vetor com dez nomes e faça uma verificação se um determinado nome esta nesse vetor. Não use nenhuma função pronta da linguagem Python.\n"
      ]
    },
    {
      "cell_type": "code",
      "source": [
        "nome = []\n",
        "for i in range(3):\n",
        "    nome.append(input('Informe um nome: '))\n",
        "val = str(input('Informe um nome para a verificação: '))\n",
        "print('\\n\\n')\n",
        "if val in nome:\n",
        "    print('Esse nome EXISTE dentro do vetor \"nome\".')\n",
        "else:\n",
        "    print('Esse nome NÃO existe dentro do vetor \"nome\".')"
      ],
      "metadata": {
        "colab": {
          "base_uri": "https://localhost:8080/"
        },
        "id": "M5vhCw1rY_-s",
        "outputId": "6e025e44-1e5d-425b-84f9-fc2f33966dc2"
      },
      "execution_count": null,
      "outputs": [
        {
          "output_type": "stream",
          "name": "stdout",
          "text": [
            "Informe um nome: jordan\n",
            "Informe um nome: amanda\n",
            "Informe um nome: maria\n",
            "Informe um nome para a verificação: jordan\n",
            "\n",
            "\n",
            "\n",
            "Esse nome EXISTE dentro do vetor \"nome\".\n"
          ]
        }
      ]
    },
    {
      "cell_type": "markdown",
      "metadata": {
        "id": "0BYcEcgYaHbl"
      },
      "source": [
        "### 7. Faça um algoritmo que calcule e apresente a média de alturas superior a 1,80 de 10 alunos. Informe também quantos e quais (índice/posição) são os alunos. Não use nenhuma função pronta da linguagem Python.\n"
      ]
    },
    {
      "cell_type": "code",
      "source": [
        "media = 0\n",
        "cont = 0\n",
        "altura = []\n",
        "soma = 0\n",
        "for i in range(3):\n",
        "    altura.append(float(input(f'Informe a altura do {i+1}° aluno: ')))\n",
        "print('\\n\\n')\n",
        "for i in range(len(altura)):\n",
        "    if altura[i] > 1.8:\n",
        "        soma = soma + altura[i]\n",
        "        cont = cont + 1\n",
        "        print(f'No índice {i} tem um aluno maior que 1.8M.')\n",
        "media = soma / cont\n",
        "print(f'A média dos alunos maiores que 1.8M é {media:.2f}')\n",
        "print(f'{cont} {alunos} que 1.8M')"
      ],
      "metadata": {
        "colab": {
          "base_uri": "https://localhost:8080/"
        },
        "id": "HujAZjWnabB1",
        "outputId": "c5c22d04-dc61-4c29-d4f6-7f342fddd82f"
      },
      "execution_count": null,
      "outputs": [
        {
          "output_type": "stream",
          "name": "stdout",
          "text": [
            "Informe a altura do 1° aluno: 1.99\n",
            "Informe a altura do 2° aluno: 1.88\n",
            "Informe a altura do 3° aluno: 1.55\n",
            "\n",
            "\n",
            "\n",
            "No índice 0 tem um aluno maior que 1.8M.\n",
            "No índice 1 tem um aluno maior que 1.8M.\n",
            "A média dos alunos maiores que 1.8M é 1.94\n",
            "2 Alunos são maiores que 1.8M\n"
          ]
        }
      ]
    },
    {
      "cell_type": "markdown",
      "metadata": {
        "id": "mFaqmOmuaVN2"
      },
      "source": [
        "### 8. Criar um algoritmo que a partir de um vetor de 10 elementos inteiros, crie outros dois vetores que receberão os elementos positivos e negativos e ao final apresente-os. Não use nenhuma função pronta da linguagem Python.\n"
      ]
    },
    {
      "cell_type": "code",
      "metadata": {
        "id": "A6hJ8MIdahuM",
        "colab": {
          "base_uri": "https://localhost:8080/"
        },
        "outputId": "26c74f90-7904-4ab6-e8f7-d32ff668cd76"
      },
      "source": [
        "numeros = []\n",
        "negativo = []\n",
        "positivo = []\n",
        "for i in range(5):\n",
        "    numeros.append(int(input(f'Informe o {i+1}° número inteiro: ')))\n",
        "    if numeros[i] < 0:\n",
        "        negativo.append(numeros[i])\n",
        "    if numeros[i] > 0:\n",
        "        positivo.append(numeros[i])\n",
        "print(f'Os valores positivos são: {positivo}')\n",
        "print(f'Os valores negativos são: {negativo}')"
      ],
      "execution_count": null,
      "outputs": [
        {
          "output_type": "stream",
          "name": "stdout",
          "text": [
            "Informe o 1° número inteiro: 5\n",
            "Informe o 2° número inteiro: -8\n",
            "Informe o 3° número inteiro: 2\n",
            "Informe o 4° número inteiro: -1\n",
            "Informe o 5° número inteiro: 6\n",
            "Os valores positivos são: [5, 2, 6]\n",
            "Os valores negativos são: [-8, -1]\n"
          ]
        }
      ]
    },
    {
      "cell_type": "markdown",
      "metadata": {
        "id": "K5IMhYTHaiEl"
      },
      "source": [
        "### 9. Criar um algoritmo que leia dados para um vetor de 100 elementos inteiros, imprimir o maior, o menor, o percentual de números pares e a média dos elementos do vetor. Obs.: percentual = quantidade contada * 100 / quantidade total. Não use nenhuma função pronta da linguagem Python.\n"
      ]
    },
    {
      "cell_type": "code",
      "source": [
        "perc = 0\n",
        "number = []\n",
        "cont = 0\n",
        "soma = 0\n",
        "media = 0\n",
        "for i in range(100):\n",
        "    number.append(int(input('Informe um número inteiro: ')))\n",
        "maior = number[0]\n",
        "menor = number[0]\n",
        "for i in range(len(number)):\n",
        "    if number[i] > maior:\n",
        "        maior = number[i]\n",
        "    if number[i] < menor:\n",
        "        menor = number[i]\n",
        "    if number[i] % 2 == 0:\n",
        "        cont = cont + 1\n",
        "    soma = soma + number[i]\n",
        "media = soma / len(number)\n",
        "perc = (cont * 100) / len(number)\n",
        "print(f'O maior número é: {maior}')\n",
        "print(f'O menor número é: {menor}')\n",
        "print(f'{perc}% é a porcentagem dos números pares.')\n",
        "print(f'A media dos elementos é: {media}')"
      ],
      "metadata": {
        "colab": {
          "base_uri": "https://localhost:8080/"
        },
        "id": "nqTEJ0cmWofp",
        "outputId": "b3080c3e-51ae-4ea1-860c-a16978ec9afc"
      },
      "execution_count": null,
      "outputs": [
        {
          "output_type": "stream",
          "name": "stdout",
          "text": [
            "Informe um número inteiro: 15\n",
            "Informe um número inteiro: 22\n",
            "Informe um número inteiro: 10\n",
            "Informe um número inteiro: 19\n",
            "Informe um número inteiro: 89\n",
            "O maior número é: 89\n",
            "O menor número é: 10\n",
            "40.0% é a porcentagem dos números pares.\n",
            "A media dos elementos é: 31.0\n"
          ]
        }
      ]
    },
    {
      "cell_type": "markdown",
      "metadata": {
        "id": "X6C3DbCGFR71"
      },
      "source": [
        "### 10. Faça um programa que:\n",
        "\n",
        "* preencha um vetor com seis elementos numéricos inteiros. \n",
        "\n",
        "**Calcule e mostre:**\n",
        "\n",
        "* todos os números pares;\n",
        "* a quantidade de números pares;\n",
        "* todos os números ímpares;\n",
        "* a quantidade de números ímpares"
      ]
    },
    {
      "cell_type": "code",
      "source": [
        "#1° MODO DE REALIZAR O EXERCÍCIO\n",
        "cont = 0\n",
        "cont2 = 0\n",
        "elementos = []\n",
        "indice = []\n",
        "indice2 = []\n",
        "for i in range(4):\n",
        "    elementos.append(int(input('Informe um número: ')))\n",
        "    if elementos[i] % 2 == 0:\n",
        "        cont = cont + 1 \n",
        "        #>>>>>>>>>>>>> não precisa contar, pois len(indice) te dará a qtde de elementos do vetor\n",
        "        indice.append(int(elementos[i]))\n",
        "    if elementos[i] % 2 != 0:\n",
        "        cont2 = cont2 + 1\n",
        "        indice2.append(int(elementos[i]))\n",
        "print(f'{indice} são os números pares')\n",
        "print(f'{indice2} são os números ímpares')\n",
        "print(f'existem {cont} números pares e {cont2} ímpares.')"
      ],
      "metadata": {
        "colab": {
          "base_uri": "https://localhost:8080/"
        },
        "id": "TjMq5Z1VxC75",
        "outputId": "7acd8fc8-d0f7-4f04-9220-39e1d98cf29a"
      },
      "execution_count": null,
      "outputs": [
        {
          "output_type": "stream",
          "name": "stdout",
          "text": [
            "Informe um número: 1\n",
            "Informe um número: 2\n",
            "Informe um número: 3\n",
            "Informe um número: 4\n",
            "[2, 4] são os números pares\n",
            "[1, 3] são os números ímpares\n",
            "existem 2 números pares e 2 ímpares.\n"
          ]
        }
      ]
    },
    {
      "cell_type": "code",
      "source": [
        "#2° MODO DE REALIZAR O EXERCÍCIO\n",
        "cont = 0\n",
        "cont2 = 0\n",
        "elementos = []\n",
        "for i in range(4):\n",
        "    elementos.append(int(input('Informe um número: ')))\n",
        "for i in range(len(elementos)):\n",
        "    if elementos[i] % 2 == 0:\n",
        "        print(f'{elementos[i]} é um número par.')\n",
        "        cont = cont + 1\n",
        "for i in range(len(elementos)):\n",
        "    if elementos[i] % 2 != 0:\n",
        "        print(f'{elementos[i]} é um número ímpar.')\n",
        "        cont2 = cont2 + 1\n",
        "print(f'existem {cont} números pares e {cont2} ímpares.')"
      ],
      "metadata": {
        "colab": {
          "base_uri": "https://localhost:8080/"
        },
        "id": "_bzdFzQ8wqL4",
        "outputId": "7542b41f-1e51-4b34-9e86-0710ad84653e"
      },
      "execution_count": null,
      "outputs": [
        {
          "output_type": "stream",
          "name": "stdout",
          "text": [
            "Informe um número: 1\n",
            "Informe um número: 2\n",
            "Informe um número: 3\n",
            "Informe um número: 4\n",
            "2 é um número par.\n",
            "4 é um número par.\n",
            "1 é um número ímpar.\n",
            "3 é um número ímpar.\n",
            "existem 2 números pares e 2 ímpares.\n"
          ]
        }
      ]
    },
    {
      "cell_type": "code",
      "metadata": {
        "id": "0OjTx-RoFZUT",
        "colab": {
          "base_uri": "https://localhost:8080/"
        },
        "outputId": "49195284-f706-4802-a859-63ad1980fe77"
      },
      "source": [
        "#ESSE MODELO SERIA O MODELO VÁLIDO PARA A PROVA\n",
        "cont = 0\n",
        "cont2 = 0\n",
        "elementos = []\n",
        "for i in range(4):\n",
        "    elementos.append(int(input('Informe um número: ')))\n",
        "for i in range(len(elementos)):\n",
        "    if elementos[i] % 2 == 0:\n",
        "        print(f'{elementos[i]} é um número par.')\n",
        "        cont = cont + 1\n",
        "    else:\n",
        "        print(f'{elementos[i]} é um número ímpar.')\n",
        "        cont2 = cont2 + 1\n",
        "print(f'existem {cont} números pares e {cont2} ímpares.')"
      ],
      "execution_count": null,
      "outputs": [
        {
          "output_type": "stream",
          "name": "stdout",
          "text": [
            "Informe um número: 1\n",
            "Informe um número: 2\n",
            "Informe um número: 3\n",
            "Informe um número: 4\n",
            "1 é um número ímpar.\n",
            "2 é um número par.\n",
            "3 é um número ímpar.\n",
            "4 é um número par.\n",
            "existem 2 números pares e 2 ímpares.\n"
          ]
        }
      ]
    },
    {
      "cell_type": "markdown",
      "metadata": {
        "id": "qTCb3GyDFzlm"
      },
      "source": [
        "### 11. Faça um programa que:\n",
        "\n",
        "* preencha um vetor com sete números inteiros\n",
        "\n",
        "**Calcule e mostre:**\n",
        "\n",
        "* os números múltiplos de 2;\n",
        "* os números múltiplos de 3;\n",
        "* os números múltiplos de 2 e de 3."
      ]
    },
    {
      "cell_type": "code",
      "metadata": {
        "id": "OPX_rge2F3kR",
        "colab": {
          "base_uri": "https://localhost:8080/"
        },
        "outputId": "e9b7b567-4aa9-4eae-a12a-9a4710674216"
      },
      "source": [
        "numeros = []\n",
        "for i in range(7):\n",
        "    numeros.append(int(input('Informe um número inteiro: ')))\n",
        "for i in range(len(numeros)):\n",
        "    if numeros[i] % 2 == 0 and numeros[i] % 3 != 0: # Adicionei esse operador lógico para evitar que os números que \n",
        "        print(f'{numeros[i]} é múltiplo de 2.')     # são múltiplos de 2 e 3 sejam impressos várias vezes.\n",
        "    if numeros[i] % 3 == 0 and numeros[i] % 2 != 0:\n",
        "        print(f'{numeros[i]} é múltiplo de 3.')\n",
        "    if numeros[i] % 3 == 0 and numeros[i] % 2 == 0:\n",
        "        print(f'{numeros[i]} é múltiplo de 2 e múltiplo de 3.')"
      ],
      "execution_count": null,
      "outputs": [
        {
          "output_type": "stream",
          "name": "stdout",
          "text": [
            "Informe um número inteiro: 12\n",
            "Informe um número inteiro: 10\n",
            "12 é múltiplo de 2 e múltiplo de 3.\n",
            "10 é múltiplo de 2.\n"
          ]
        }
      ]
    },
    {
      "cell_type": "markdown",
      "metadata": {
        "id": "sf4dSTh-F3wV"
      },
      "source": [
        "### 12. Faça um programa que:\n",
        "\n",
        "* preencha um vetor com quinze elementos inteiros\n",
        "* verifique a existência de elementos iguais a 30, mostrando os índices/posições em que apareceram."
      ]
    },
    {
      "cell_type": "code",
      "metadata": {
        "id": "pV6slXVYF8Fm",
        "colab": {
          "base_uri": "https://localhost:8080/"
        },
        "outputId": "2c1b7ed7-0010-4a17-b60b-ddca81fd4ede"
      },
      "source": [
        "number =[]\n",
        "for i in range(3):\n",
        "    number.append(int(input('Informe um número inteiro: ')))\n",
        "for i in range(len(number)):\n",
        "    if number[i] == 30:\n",
        "        print(f'O número 30 está na {i+1}° posição.') "
      ],
      "execution_count": null,
      "outputs": [
        {
          "output_type": "stream",
          "name": "stdout",
          "text": [
            "Informe um número inteiro: 10\n",
            "Informe um número inteiro: 20\n",
            "Informe um número inteiro: 30\n",
            "O número 30 está na 3° posição.\n"
          ]
        }
      ]
    },
    {
      "cell_type": "markdown",
      "metadata": {
        "id": "9UnrFcvfF8VU"
      },
      "source": [
        "### 13. Faça um programa que:\n",
        "\n",
        "* preencha um vetor com dez números reais\n",
        "\n",
        "**Calcule e mostre:**\n",
        "\n",
        "* a quantidade de números negativos\n",
        "* a soma dos números positivos desse *vetor*\n",
        "* não use nenhuma função pronta da linguagem Python"
      ]
    },
    {
      "cell_type": "code",
      "metadata": {
        "id": "x4hGToRMM6q8",
        "colab": {
          "base_uri": "https://localhost:8080/"
        },
        "outputId": "bc768db8-a47b-4ccc-ba25-645ea1caf58f"
      },
      "source": [
        "soma = 0\n",
        "cont = 0\n",
        "number = []\n",
        "for i in range(10):\n",
        "    number.append(int(input('Informe um número: ')))\n",
        "for i in range(len(number)):\n",
        "    if number[i] < 0:\n",
        "        cont = cont + 1\n",
        "    else:\n",
        "        soma = soma + number[i]\n",
        "print(f'Há {cont} números negativos.')\n",
        "print(f'A soma dos números positivos é {soma}.')"
      ],
      "execution_count": null,
      "outputs": [
        {
          "output_type": "stream",
          "name": "stdout",
          "text": [
            "Informe um número: -1\n",
            "Informe um número: 5\n",
            "Informe um número: -5\n",
            "Informe um número: 2\n",
            "Há 2 números negativos.\n",
            "A soma dos números positivos é 7.\n"
          ]
        }
      ]
    },
    {
      "cell_type": "markdown",
      "metadata": {
        "id": "h08bQeSEM62n"
      },
      "source": [
        "### 14. Faça um programa que:\n",
        "\n",
        "* receba dez números inteiros e armazene-os em um vetor\n",
        "* classifique os números em dois vetores, um com números pares e o outra com os ímpares\n",
        "* não use nenhuma função pronta da linguagem Python"
      ]
    },
    {
      "cell_type": "code",
      "metadata": {
        "id": "5Ch4maMCM-hg",
        "colab": {
          "base_uri": "https://localhost:8080/"
        },
        "outputId": "34ce9fbd-c5df-4906-f03c-72218b156e7b"
      },
      "source": [
        "number = []\n",
        "par = []\n",
        "impar = []\n",
        "for i in range(3):\n",
        "    number.append(int(input('Informe um número inteiro: ')))\n",
        "for i in range(len(number)):\n",
        "    if number[i] % 2 == 0:\n",
        "        par.append(number[i])\n",
        "    else:\n",
        "        impar.append(number[i])\n",
        "#no exercício não pede para printar, mas vou printar porque se não, não há sentido no exercício.\n",
        "print(f'Os números pares são {par}')\n",
        "print(f'Os números ímpares são {impar}')"
      ],
      "execution_count": null,
      "outputs": [
        {
          "output_type": "stream",
          "name": "stdout",
          "text": [
            "Informe um número inteiro: 2\n",
            "Informe um número inteiro: 3\n",
            "Informe um número inteiro: 4\n",
            "Os números pares são [2, 4]\n",
            "Os números ímpares são [3]\n"
          ]
        }
      ]
    },
    {
      "cell_type": "markdown",
      "metadata": {
        "id": "Lzqh-l1JNNTr"
      },
      "source": [
        "### 15. Faça um programa que:\n",
        "\n",
        "* preencha um vetor com quinze números\n",
        "\n",
        "**Determine e mostre:**\n",
        "\n",
        "* o maior número e a posição por ele ocupada no vetor\n",
        "* o menor número e a posição por ele ocupada no vetor\n",
        "* Não use nenhuma função pronta da linguagem Python"
      ]
    },
    {
      "cell_type": "code",
      "metadata": {
        "id": "J-jy56awNIb4",
        "colab": {
          "base_uri": "https://localhost:8080/"
        },
        "outputId": "c5bce3c3-b0ff-47e2-83f8-9436f2d088a0"
      },
      "source": [
        "number = []\n",
        "position_maior = 0\n",
        "position_menor = 0\n",
        "for i in range(4):\n",
        "    number.append(int(input('Informe um número inteiro: ')))\n",
        "maior = number[0]\n",
        "menor = number[0]\n",
        "for i in range(len(number)):\n",
        "    if number[i] > maior:\n",
        "        maior = number[i]\n",
        "        position_maior = i\n",
        "    if number[i] < menor:\n",
        "        menor = number[i]\n",
        "        position_menor = i\n",
        "print()\n",
        "print(f'O maior número é {maior} e está na {position_maior + 1}° posição.') # ou somente {position_maior} para printar o\n",
        "print(f'O menor número é {menor} e está na {position_menor + 1}° posição.') # índice do vetor."
      ],
      "execution_count": null,
      "outputs": [
        {
          "output_type": "stream",
          "name": "stdout",
          "text": [
            "Informe um número inteiro: 15\n",
            "Informe um número inteiro: 22\n",
            "Informe um número inteiro: 55\n",
            "Informe um número inteiro: 12\n",
            "\n",
            "O maior número é 55 e está na 3° posição.\n",
            "O menor número é 12 e está na 4° posição.\n"
          ]
        }
      ]
    },
    {
      "cell_type": "markdown",
      "metadata": {
        "id": "HmWgU1x2FaAP"
      },
      "source": [
        "#**EXERCÍCIOS - EXTRA**"
      ]
    },
    {
      "cell_type": "markdown",
      "metadata": {
        "id": "CwrnVAqjNIqA"
      },
      "source": [
        "### 16. Faça um programa que:\n",
        "\n",
        "* preencha dois vetores com de dez numeros cada\n",
        "* preencha um terceiro vetor com os números dos dois vetores anteriores ordenados em ordem crescente\n"
      ]
    },
    {
      "cell_type": "code",
      "source": [
        "vet1 = []\n",
        "vet2 = []\n",
        "vet3 = []\n",
        "x = 4\n",
        "a = 0\n",
        "for i in range(2):\n",
        "    vet1.append(int(input('Informe um número para o VETOR 1: ')))\n",
        "for i in range(len(vet1)):\n",
        "    vet2.append(int(input('Informe um número para o VETOR 2: ')))\n",
        "vet3 = vet1 + vet2\n",
        "vet3.sort()\n",
        "print(f'A junção dos elementos dos 2 primeiros vetores em ordem crescente é: ')\n",
        "print(vet3)"
      ],
      "metadata": {
        "colab": {
          "base_uri": "https://localhost:8080/"
        },
        "id": "xiAEWtPopIba",
        "outputId": "5dc692f2-05a5-4c33-cc4b-de1195250b21"
      },
      "execution_count": null,
      "outputs": [
        {
          "output_type": "stream",
          "name": "stdout",
          "text": [
            "Informe um número para o VETOR 1: 1\n",
            "Informe um número para o VETOR 1: 3\n",
            "Informe um número para o VETOR 2: 2\n",
            "Informe um número para o VETOR 2: 4\n",
            "A junção dos elementos dos 2 primeiros vetores em ordem crescente é: \n",
            "[1, 2, 3, 4]\n"
          ]
        }
      ]
    },
    {
      "cell_type": "markdown",
      "metadata": {
        "id": "HkiTq5lrNSnY"
      },
      "source": [
        "### 17. Faça um programa que:\n",
        "\n",
        "* carregue dois vetores com 10 números cada\n",
        "* faça a multiplicação dos números na mesma posição\n",
        "* o resultado deverá ser adicionada em um terceiro vetor\n",
        "* não use nenhuma função pronta da linguagem Python"
      ]
    },
    {
      "cell_type": "code",
      "metadata": {
        "id": "F1bta73yNXRe",
        "colab": {
          "base_uri": "https://localhost:8080/"
        },
        "outputId": "b6c577d1-5b5e-4605-94c7-8208df905277"
      },
      "source": [
        "vet1 = []\n",
        "vet2 = []\n",
        "vet3 = []\n",
        "for i in range(3):\n",
        "    vet1.append(int(input('Informe um valor para VETOR 1: ')))\n",
        "for i in range(len(vet1)):\n",
        "    vet2.append(int(input('Informe um valor para VETOR 2: ')))\n",
        "    vet3.append(vet1[i] * vet2[i])\n",
        "print('O resultado da multiplicação dos elementos dos primeiros vetores é: ')\n",
        "print(vet3)"
      ],
      "execution_count": null,
      "outputs": [
        {
          "output_type": "stream",
          "name": "stdout",
          "text": [
            "Informe um valor para VETOR 1: 2\n",
            "Informe um valor para VETOR 1: 5\n",
            "Informe um valor para VETOR 1: 10\n",
            "Informe um valor para VETOR 2: 4\n",
            "Informe um valor para VETOR 2: 5\n",
            "Informe um valor para VETOR 2: 6\n",
            "O resultado da multiplicação dos elementos dos primeiros vetores é: \n",
            "[8, 25, 60]\n"
          ]
        }
      ]
    },
    {
      "cell_type": "markdown",
      "metadata": {
        "id": "ZAel4hPSNXdC"
      },
      "source": [
        "### 18. Faça um programa que:\n",
        "\n",
        "* leia um vetor de 10 números inteiros\n",
        "* exiba na tela os números positivos e seus respectivos índices.\n",
        "* não use nenhuma função pronta da linguagem Python"
      ]
    },
    {
      "cell_type": "code",
      "metadata": {
        "id": "Wn-sojioNb99",
        "colab": {
          "base_uri": "https://localhost:8080/"
        },
        "outputId": "9f986d0f-da7e-47d5-ded4-1e6416ffac1c"
      },
      "source": [
        "numero = []\n",
        "for i in range(4):\n",
        "    numero.append(int(input(f'Informe um valor: ')))\n",
        "for i in range(len(numero)):\n",
        "    if numero[i] > 0:\n",
        "        print(f'{numero[i]} é positivo, e seu índice é {i}, ou posição {i+1}.')"
      ],
      "execution_count": null,
      "outputs": [
        {
          "output_type": "stream",
          "name": "stdout",
          "text": [
            "Informe um valor: 1\n",
            "Informe um valor: -3\n",
            "Informe um valor: 5\n",
            "Informe um valor: -519\n",
            "1 é positivo, e seu índice é 0, ou posição 1.\n",
            "5 é positivo, e seu índice é 2, ou posição 3.\n"
          ]
        }
      ]
    },
    {
      "cell_type": "markdown",
      "metadata": {
        "id": "IErlUNBBNcKh"
      },
      "source": [
        "### 19. Faça um programa que:\n",
        "\n",
        "* insira dez números inteiros em um vetor\n",
        "* crie um segundo vetor, substituindo os números multiplos de 3 por \"999\"\"\n",
        "* exiba os dois vetores\n",
        "* não use nenhuma função pronta da linguagem Python"
      ]
    },
    {
      "cell_type": "code",
      "metadata": {
        "id": "ABkUHan9NiRV",
        "colab": {
          "base_uri": "https://localhost:8080/"
        },
        "outputId": "d0e6b634-3361-4986-fb54-24fccade01a8"
      },
      "source": [
        "number = []\n",
        "mult = []\n",
        "for i in range(3):\n",
        "    number.append(int(input('Informe um número inteiro: ')))\n",
        "    mult.append(int(number[i]))\n",
        "    if number[i] % 3 ==0:\n",
        "        mult[i] = 999\n",
        "print(f'1° Vetor: {number}')\n",
        "print(f'2° Vetor: {mult}')"
      ],
      "execution_count": null,
      "outputs": [
        {
          "output_type": "stream",
          "name": "stdout",
          "text": [
            "Informe um número inteiro: 1\n",
            "Informe um número inteiro: 3\n",
            "Informe um número inteiro: 5\n",
            "1° Vetor: [1, 3, 5]\n",
            "2° Vetor: [1, 999, 5]\n"
          ]
        }
      ]
    },
    {
      "cell_type": "markdown",
      "metadata": {
        "id": "ZtxMl1r8NnV7"
      },
      "source": [
        "### 21. Faça um programa que:\n",
        "\n",
        "* leia dois vetores (A e B) com cinco posições para números inteiros.\n",
        "* o programa deve, então, subtrair o primeiro elemento de A do último de B, armazenando o resultado num terceiro vetor, subtrair o segundo elemento de A do penúltimo de B, armazenando o resultado num terceiro vetor e assim por diante. \n",
        "* ao final, mostre o resultado do terceiro vetor\n",
        "* não use nenhuma função pronta da linguagem Python"
      ]
    },
    {
      "cell_type": "code",
      "metadata": {
        "id": "TPVdojenNq37",
        "colab": {
          "base_uri": "https://localhost:8080/"
        },
        "outputId": "c5579942-e1a7-439d-841f-fb46fd505d8f"
      },
      "source": [
        "a = []\n",
        "b = []\n",
        "sub = []\n",
        "for i in range(3):\n",
        "    a.append(int(input('Informe um valor para o vetor A: ')))\n",
        "for i in range(3):\n",
        "    b.append(int(input('Informe um valor para o vetor B: ')))\n",
        "    sub.append(int(b[i]))\n",
        "for i in range(len(b)):\n",
        "    b[i] = sub[(len(a) - 1) - i]\n",
        "sub = []\n",
        "for i in range(len(a)):\n",
        "    sub.append(a[i] - b[i])\n",
        "print(f'O resultado do 3° vetor é: {sub}')"
      ],
      "execution_count": null,
      "outputs": [
        {
          "output_type": "stream",
          "name": "stdout",
          "text": [
            "Informe um valor para o vetor A: 2\n",
            "Informe um valor para o vetor A: 4\n",
            "Informe um valor para o vetor A: 6\n",
            "Informe um valor para o vetor B: 1\n",
            "Informe um valor para o vetor B: 2\n",
            "Informe um valor para o vetor B: 3\n",
            "O resultado do 3° vetor é: [-1, 2, 5]\n"
          ]
        }
      ]
    },
    {
      "cell_type": "markdown",
      "metadata": {
        "id": "ASOIKJD7M-vh"
      },
      "source": [
        "###22. Faça um programa que:\n",
        "\n",
        "* preencha um vetor de cinco números e mostre a saída a seguir:\n",
        "* imprima a seguinte saída: n1 + n2 + n3 + n4 + n5 = soma_dos_numeros, exemplo 8 + 2 + 1 + 3 + 0 = 14\n",
        "* não use nenhuma função pronta da linguagem Python\n"
      ]
    },
    {
      "cell_type": "code",
      "metadata": {
        "id": "hyDhAbwPNuhK",
        "colab": {
          "base_uri": "https://localhost:8080/"
        },
        "outputId": "6d05e80e-e7da-4918-9890-02ff2ab65dd2"
      },
      "source": [
        "soma = 0\n",
        "number = []\n",
        "for i in range(5):\n",
        "    number.append(int(input('Informe um número inteiro: ')))\n",
        "    soma = soma + number[i]\n",
        "print(f'{number[0]} + {number[1]} + {number[2]} + {number[3]} + {number[4]} = {soma}')"
      ],
      "execution_count": null,
      "outputs": [
        {
          "output_type": "stream",
          "name": "stdout",
          "text": [
            "Informe um número inteiro: 5\n",
            "Informe um número inteiro: 5\n",
            "Informe um número inteiro: 5\n",
            "Informe um número inteiro: 5\n",
            "Informe um número inteiro: 5\n",
            "5 + 5 + 5 + 5 + 5 = 25\n"
          ]
        }
      ]
    },
    {
      "cell_type": "markdown",
      "metadata": {
        "id": "D6GVJmfhNusA"
      },
      "source": [
        "### 23. Faça um programa que:\n",
        "* leia um vetor com quinze posições para números inteiros.\n",
        "* depois da leitura, divida todos os seus elementos pelo maior valor do vetor.\n",
        "* Mostre o vetor após os cálculos.\n",
        "* não use nenhuma função pronta da linguagem Python"
      ]
    },
    {
      "cell_type": "code",
      "metadata": {
        "id": "zto4otPkgPRV",
        "colab": {
          "base_uri": "https://localhost:8080/"
        },
        "outputId": "f843e2de-556e-4d54-c98b-81e197d400dd"
      },
      "source": [
        "div = []\n",
        "maior = 0\n",
        "menor = 0\n",
        "number = []\n",
        "x = 3\n",
        "for i in range(4):\n",
        "    number.append(int(input('Informe um número inteiro: ')))\n",
        "    maior = number[0]\n",
        "    menor = number[0]\n",
        "for i in range(len(number)):\n",
        "    if number[i] > maior:\n",
        "        maior = number[i]\n",
        "    else:\n",
        "        menor = number[i]\n",
        "for i in range(len(number)):\n",
        "    div.append(float(number[i] / maior)) #>>>>>>>>> Só não sei se é dividir \"elemento\" por \"maior\", ou \"maior\" por \"elemento\"\n",
        "print(f'Elementos divididos pelo maior número:')\n",
        "print(div)"
      ],
      "execution_count": null,
      "outputs": [
        {
          "output_type": "stream",
          "name": "stdout",
          "text": [
            "Informe um número inteiro: 2\n",
            "Informe um número inteiro: 4\n",
            "Informe um número inteiro: 6\n",
            "Informe um número inteiro: 8\n",
            "[0.25, 0.5, 0.75, 1.0]\n"
          ]
        }
      ]
    },
    {
      "cell_type": "markdown",
      "metadata": {
        "id": "Hwgks80Tawon"
      },
      "source": [
        "### 24. Um vetor é palíndromo se ele não se alterar quando o mesmo for invertido. Escreva um programa que verifique se um vetor é palíndromo, fazendo comparação de índice/posição por índice/posição do vetor original (vo) com o vetor invertido (vi). Não use nenhuma função pronta da linguagem Python. A tamanho do vetor pode ser da sua escolha.\n",
        "Exemplo:\n",
        "vetor original    vo = {1, 3, 5, 2, 2, 5, 3, 1}  \n",
        "vetor invertido é vi = {1, 3, 5, 2, 2, 5, 3, 1}\n",
        "O vetor invertido **é palíndromo**, pois ele invertido é igual ao original\n",
        "\n",
        "vetor original    vo = {9, 7, 5, 2, 4, 5, 3, 6}  \n",
        "vetor invertido é vi = {6, 3, 5, 4, 2, 5, 7, 9}\n",
        "O vetor invertido **não é palíndromo**, pois ele invertido é igual ao original\n",
        "\n"
      ]
    },
    {
      "cell_type": "code",
      "metadata": {
        "id": "ua4_aIrbN0rO",
        "colab": {
          "base_uri": "https://localhost:8080/"
        },
        "outputId": "6eaaf064-8d53-4fae-fb03-3e7b26e7b489"
      },
      "source": [
        "cont = 0\n",
        "vo = []\n",
        "vi = []\n",
        "x = int(input('Informe a quantidade de elementos que você quer no Vetor: '))\n",
        "for i in range(x):\n",
        "    vo.append(int(input(f'Informe um número para o {i+1}° elemento: ')))\n",
        "print(vo)\n",
        "for i in range(len(vo)):\n",
        "    vi.append(vo[(len(vo) - 1) - i])\n",
        "print(vi)\n",
        "for i in range(len(vo)):\n",
        "    if vo[i] == vi[i]:\n",
        "        cont = cont + 1\n",
        "if cont == len(vo):\n",
        "    print('\\n\\n')\n",
        "    print(f'O vetor {vi} é palindromo, pois o inverso das posições dos elementos, é IGUAL a posição original. Veja: ')\n",
        "    print('\\n\\n')\n",
        "    print(f'Vetor original {vo}')\n",
        "    print(f'Vetor original invertido {vi}')\n",
        "else:\n",
        "    print('\\n\\n')\n",
        "    print(f'O vetor {vi} NÃO é palindromo, pois o inverso das posições dos elementos, é DIFERENTE da posição original. Veja: ')\n",
        "    print('\\n\\n')\n",
        "    print(f'Vetor original           {vo}')\n",
        "    print(f'Vetor original invertido {vi}')"
      ],
      "execution_count": null,
      "outputs": [
        {
          "output_type": "stream",
          "name": "stdout",
          "text": [
            "Informe a quantidade de elementos que você quer no Vetor: 5\n",
            "Informe um número para o 1° elemento: 3\n",
            "Informe um número para o 2° elemento: 5\n",
            "Informe um número para o 3° elemento: 7\n",
            "Informe um número para o 4° elemento: 5\n",
            "Informe um número para o 5° elemento: 3\n",
            "[3, 5, 7, 5, 3]\n",
            "[3, 5, 7, 5, 3]\n",
            "\n",
            "\n",
            "\n",
            "O vetor [3, 5, 7, 5, 3] é palindromo, pois o inverso das posições dos elementos, é IGUAL a posição original. Veja: \n",
            "\n",
            "\n",
            "\n",
            "Vetor original [3, 5, 7, 5, 3]\n",
            "Vetor original invertido [3, 5, 7, 5, 3]\n"
          ]
        }
      ]
    }
  ]
}