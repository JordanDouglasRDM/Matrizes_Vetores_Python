{
  "nbformat": 4,
  "nbformat_minor": 0,
  "metadata": {
    "colab": {
      "provenance": [],
      "collapsed_sections": [],
      "include_colab_link": true
    },
    "kernelspec": {
      "name": "python3",
      "display_name": "Python 3"
    }
  },
  "cells": [
    {
      "cell_type": "markdown",
      "metadata": {
        "id": "view-in-github",
        "colab_type": "text"
      },
      "source": [
        "<a href=\"https://colab.research.google.com/github/JordanDouglasRDM/Matrizes_Vetores_Python/blob/main/Jordan_Douglas_Matriz_n.ipynb\" target=\"_parent\"><img src=\"https://colab.research.google.com/assets/colab-badge.svg\" alt=\"Open In Colab\"/></a>"
      ]
    },
    {
      "cell_type": "markdown",
      "metadata": {
        "id": "skN-Wz61xZzi"
      },
      "source": [
        "### 1. Faça um programa que leia uma matriz 2x3 (2 linhas, 3 colunas). Apresente os elementos da matriz e seus respectivos índices."
      ]
    },
    {
      "cell_type": "code",
      "metadata": {
        "id": "Wbjafj_QxWP-",
        "colab": {
          "base_uri": "https://localhost:8080/"
        },
        "outputId": "183d65aa-bf1d-4fcb-8100-00e811900f88"
      },
      "source": [
        "matriz = [] # ................................................... Lendo a matriz\n",
        "for lin in range(2):\n",
        "    linha = []\n",
        "    for col in range(3): \n",
        "        linha.append(int(input('Digite o valor ['+ str(lin) + '][' + str(col) + ']: ')))\n",
        "        #soma = soma + linha[col]\n",
        "    matriz.append(linha)\n",
        "#print da soma dos salários\n",
        "for lin in range(2):  # ...................................Apresentando a matriz\n",
        "    for col in range(3): \n",
        "\t    print(matriz[lin][col], end='\\t')\n",
        "    print()"
      ],
      "execution_count": null,
      "outputs": [
        {
          "output_type": "stream",
          "name": "stdout",
          "text": [
            "Digite o valor [0][0]: 321\n",
            "Digite o valor [0][1]: 214\n",
            "Digite o valor [0][2]: 321\n",
            "Digite o valor [1][0]: 654\n",
            "Digite o valor [1][1]: 321\n",
            "Digite o valor [1][2]: 145\n",
            "321\t214\t321\t\n",
            "654\t321\t145\t\n"
          ]
        }
      ]
    },
    {
      "cell_type": "markdown",
      "metadata": {
        "id": "0jPoba3-yLnG"
      },
      "source": [
        "### 2. Faça um programa que carregue uma matriz 2 x 2, que representa o salário de 4 funcionários, calcule e mostre a soma total de todos os elementos que será o montante pago pela empresa a esses funcionários."
      ]
    },
    {
      "cell_type": "code",
      "metadata": {
        "id": "UHD2oMlJyLzc",
        "colab": {
          "base_uri": "https://localhost:8080/"
        },
        "outputId": "77947ecf-9679-431b-f903-290ad923dc0e"
      },
      "source": [
        "soma = 0\n",
        "matriz = []\n",
        "for lin in range(2):\n",
        "    linha = []\n",
        "    for col in range(2):\n",
        "        linha.append(float(input(f'Informe o salário do funcionário: [{lin}][{col}] ')))\n",
        "        soma = soma + linha[col]\n",
        "    matriz.append(linha)\n",
        "print(f'A soma de todos os salários é: R${soma:.2f}')"
      ],
      "execution_count": null,
      "outputs": [
        {
          "output_type": "stream",
          "name": "stdout",
          "text": [
            "Informe o salário do funcionário: [0][0] 1830.56\n",
            "Informe o salário do funcionário: [0][1] 1978.55\n",
            "Informe o salário do funcionário: [1][0] 3002.9\n",
            "Informe o salário do funcionário: [1][1] 6200.59\n",
            "A soma de todos os salários é: R$13012.60\n"
          ]
        }
      ]
    },
    {
      "cell_type": "markdown",
      "metadata": {
        "id": "HAz_eYfhzg06"
      },
      "source": [
        "### 3. Faça um programa que carregue uma matriz 3 x 2, que representa preços de produtos, crie OUTRA matriz que armazene todos os preços com 7% de aumento."
      ]
    },
    {
      "cell_type": "code",
      "metadata": {
        "id": "Cg-NIjInzfmU",
        "colab": {
          "base_uri": "https://localhost:8080/"
        },
        "outputId": "12e5c955-a930-40ce-91dd-80b29b7ca7ce"
      },
      "source": [
        "matriz = []\n",
        "mat_aum = []\n",
        "for lin in range(3):\n",
        "    linha = []\n",
        "    linha_aum = []\n",
        "    cont = lin + cont\n",
        "    for col in range(2):\n",
        "        linha.append(float(input(f'Insira o preço dos produtos: ')))\n",
        "        linha_aum.append(linha[col] + (linha[col] * 0.07 ))\n",
        "    matriz.append(linha)\n",
        "    mat_aum.append(linha_aum)\n",
        "print('\\n\\n')\n",
        "print('A matriz a baixo representa os valores inseridos com o aumento de 7%')\n",
        "print()\n",
        "for lin in range(3):\n",
        "    for col in range(2):\n",
        "        print(mat_aum[lin][col], end='\\t')\n",
        "    print()"
      ],
      "execution_count": null,
      "outputs": [
        {
          "output_type": "stream",
          "name": "stdout",
          "text": [
            "Insira o preço dos produtos: 321\n",
            "Insira o preço dos produtos: 123\n",
            "Insira o preço dos produtos: 654\n",
            "Insira o preço dos produtos: 456\n",
            "Insira o preço dos produtos: 987\n",
            "Insira o preço dos produtos: 100\n",
            "\n",
            "\n",
            "\n",
            "A matriz a baixo representa os valores inseridos com o aumento de 7%\n",
            "\n",
            "343.47\t131.61\t\n",
            "699.78\t487.92\t\n",
            "1056.09\t107.0\t\n"
          ]
        }
      ]
    },
    {
      "cell_type": "markdown",
      "metadata": {
        "id": "_aPd4c1b3OjS"
      },
      "source": [
        "### 4. Faça um programa para armazenar em uma matriz 5x2 preços. Encontre e apresente os ÍNDICES dos valores menores que 23 reais."
      ]
    },
    {
      "cell_type": "code",
      "source": [
        "matriz = []\n",
        "for lin in range(5):\n",
        "    linha = []\n",
        "    for col in range(2):\n",
        "        linha.append(float(input(f'Informe o preço: [{lin}][{col}] ')))\n",
        "    matriz.append(linha)\n",
        "print('\\n\\n')\n",
        "for col in range(2):\n",
        "    for lin in range(2):\n",
        "        if matriz[lin][col] < 23:\n",
        "            print(f'No índice [{lin}][{col}] há um valor menor que 23.')  "
      ],
      "metadata": {
        "colab": {
          "base_uri": "https://localhost:8080/"
        },
        "id": "qRKZnVI-eViX",
        "outputId": "93ba5213-b83e-4c22-b518-220184b76fe7"
      },
      "execution_count": null,
      "outputs": [
        {
          "output_type": "stream",
          "name": "stdout",
          "text": [
            "Informe o preço: [0][0] 12\n",
            "Informe o preço: [0][1] 32\n",
            "Informe o preço: [1][0] 14\n",
            "Informe o preço: [1][1] 58\n",
            "\n",
            "\n",
            "\n",
            "No índice [0][0] há um valor menor que 23.\n",
            "No índice [1][0] há um valor menor que 23.\n"
          ]
        }
      ]
    },
    {
      "cell_type": "code",
      "metadata": {
        "id": "Q6LPIy_LCQuO"
      },
      "source": [
        "# if matriz[lin][col] < 23:\n",
        "      print(lin)\n",
        "      print(col)"
      ],
      "execution_count": null,
      "outputs": []
    },
    {
      "cell_type": "markdown",
      "metadata": {
        "id": "JgYwP3n1CQ_U"
      },
      "source": [
        "### 5. Faça um programa que leia números inteiros m e n e os elementos de uma matriz A de números inteiros de dimensão m x n e conte o número de elementos que são iguais a zero.\n"
      ]
    },
    {
      "cell_type": "code",
      "metadata": {
        "id": "fb6TwQ_yh_To",
        "colab": {
          "base_uri": "https://localhost:8080/"
        },
        "outputId": "94f909d7-b198-45e0-b3d3-64a9505260fe"
      },
      "source": [
        "m = int(input('Informe a quantidade de linhas que a matriz terá: '))\n",
        "n = int(input('Informe a quantidade de colunas que a matriz terá: '))\n",
        "matriz = []\n",
        "cont = 0\n",
        "for lin in range(m):\n",
        "    linha = []\n",
        "    for col in range(n):\n",
        "        linha.append(float(input('Informe o preço: R$')))\n",
        "    matriz.append(linha)\n",
        "print()\n",
        "for lin in range(m):\n",
        "    for col in range(n):\n",
        "        if matriz[lin][col] == 0:\n",
        "            cont = cont + 1\n",
        "print(f'{cont} elementos são iguais a 0.')0"
      ],
      "execution_count": null,
      "outputs": [
        {
          "output_type": "stream",
          "name": "stdout",
          "text": [
            "Informe a quantidade de linhas que a matriz terá: 3\n",
            "Informe a quantidade de colunas que a matriz terá: 2\n",
            "Informe o preço: R$321\n",
            "Informe o preço: R$654\n",
            "Informe o preço: R$987\n",
            "Informe o preço: R$123\n",
            "Informe o preço: R$456\n",
            "Informe o preço: R$0\n",
            "\n",
            "1 elementos são iguais a 0.\n"
          ]
        }
      ]
    },
    {
      "cell_type": "markdown",
      "metadata": {
        "id": "fZNXRUrrh_g9"
      },
      "source": [
        "### 6. Faça um programa que carregue: *um vetor com oito posições com os nomes das lojas; * um outro vetor com quatro posições com os nomes dos produtos; * uma matriz (8 x 4) com os preços de todos os produtos em cada loja. O programa deve mostrar todas as relações (nome da loja - nome do produto e preço), nas quais o preço não ultrapasse R$ 120,00.\n"
      ]
    },
    {
      "cell_type": "code",
      "source": [
        "loja = []\n",
        "produto = []\n",
        "preco = []\n",
        "for i in range(2):\n",
        "    loja.append(str(input(f'Informe o nome da {i + 1}° LOJA: ')))\n",
        "for i in range(2):\n",
        "    produto.append(str(input(f'Informe o nome do {i + 1}° PRODUTO: ')))\n",
        "for lin in range(2):\n",
        "    linha = []\n",
        "    for col in range(2):\n",
        "        linha.append(float(input('PREÇO do produto: R$')))\n",
        "    preco.append(linha)\n",
        "for lin in range(2):\n",
        "    for col in range(2):\n",
        "        if preco[lin][col] < 120:\n",
        "            print(f'Loja...{loja[lin]}   Produto...{produto[col]}   Preço...R${preco[lin][col]}')"
      ],
      "metadata": {
        "colab": {
          "base_uri": "https://localhost:8080/"
        },
        "id": "eGV-JXfhsnLW",
        "outputId": "0de96e72-1fd7-48ca-99e6-b066cf9cd09b"
      },
      "execution_count": null,
      "outputs": [
        {
          "output_type": "stream",
          "name": "stdout",
          "text": [
            "Informe o nome da 1° LOJA: Jordan\n",
            "Informe o nome da 2° LOJA: Amanda\n",
            "Informe o nome do 1° PRODUTO: Mouse\n",
            "Informe o nome do 2° PRODUTO: Teclado\n",
            "PREÇO do produto: 65\n",
            "PREÇO do produto: 112\n",
            "PREÇO do produto: 59\n",
            "PREÇO do produto: 121\n",
            "Loja...Jordan   Produto...Mouse   Preço...R$65.0\n",
            "Loja...Jordan   Produto...Teclado   Preço...R$112.0\n",
            "Loja...Amanda   Produto...Mouse   Preço...R$59.0\n"
          ]
        }
      ]
    }
  ]
}